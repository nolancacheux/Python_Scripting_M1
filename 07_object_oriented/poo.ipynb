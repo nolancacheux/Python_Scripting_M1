{
 "cells": [
  {
   "cell_type": "code",
   "execution_count": 1,
   "metadata": {},
   "outputs": [
    {
     "name": "stdout",
     "output_type": "stream",
     "text": [
      "                                                Shape        Area\n",
      "0                     Square(side=3.7144836856711216)   13.797389\n",
      "1                    Circle(radius=9.270341768590127)  269.986074\n",
      "2   Rectangle(width=6.903525846428514, height=3.05...   21.102945\n",
      "3                    Circle(radius=4.558483098928074)   65.281567\n",
      "4                     Circle(radius=9.73031948791968)  297.443219\n",
      "..                                                ...         ...\n",
      "95                     Square(side=3.045178416515297)    9.273112\n",
      "96                   Circle(radius=7.448799309494511)  174.310047\n",
      "97                     Square(side=4.795433137168809)   22.996179\n",
      "98                   Circle(radius=2.351572537639488)   17.372672\n",
      "99                   Circle(radius=6.139361343312383)  118.412149\n",
      "\n",
      "[100 rows x 2 columns]\n",
      "Total area of all shapes: 6310.113351678304\n"
     ]
    }
   ],
   "source": [
    "import random\n",
    "import numpy as np\n",
    "import math\n",
    "import pandas as pd\n",
    "\n",
    "class Shape:\n",
    "    def compute_area(self):\n",
    "        raise NotImplementedError(\"This method should be overridden by subclasses\")\n",
    "\n",
    "class Rectangle(Shape):\n",
    "    def __init__(self, width, height):\n",
    "        self.width = width\n",
    "        self.height = height\n",
    "\n",
    "    def compute_area(self):\n",
    "        return self.width * self.height\n",
    "\n",
    "    def __repr__(self):\n",
    "        return f\"Rectangle(width={self.width}, height={self.height})\"\n",
    "\n",
    "class Circle(Shape):\n",
    "    def __init__(self, radius):\n",
    "        self.radius = radius\n",
    "\n",
    "    def compute_area(self):\n",
    "        return math.pi * self.radius ** 2\n",
    "\n",
    "    def __repr__(self):\n",
    "        return f\"Circle(radius={self.radius})\"\n",
    "\n",
    "class Square(Shape):\n",
    "    def __init__(self, side):\n",
    "        self.side = side\n",
    "\n",
    "    def compute_area(self):\n",
    "        return self.side ** 2\n",
    "\n",
    "    def __repr__(self):\n",
    "        return f\"Square(side={self.side})\"\n",
    "    \n",
    "shapes = []\n",
    "for i in range(100):\n",
    "    shape_type = random.choice([Rectangle, Circle, Square])\n",
    "    if shape_type == Rectangle:\n",
    "        shape = Rectangle(random.uniform(1, 10), random.uniform(1, 10))\n",
    "    elif shape_type == Circle:\n",
    "        shape = Circle(random.uniform(1, 10))\n",
    "    elif shape_type == Square:\n",
    "        shape = Square(random.uniform(1, 10))\n",
    "    shapes.append(shape)\n",
    "\n",
    "data = {\n",
    "    \"Shape\": [str(shape) for shape in shapes],\n",
    "    \"Area\": [shape.compute_area() for shape in shapes]\n",
    "}\n",
    "df = pd.DataFrame(data)\n",
    "\n",
    "print(df)\n",
    "\n",
    "total_area = df[\"Area\"].sum()\n",
    "print(f\"Total area of all shapes: {total_area}\")"
   ]
  }
 ],
 "metadata": {
  "kernelspec": {
   "display_name": "base",
   "language": "python",
   "name": "python3"
  },
  "language_info": {
   "codemirror_mode": {
    "name": "ipython",
    "version": 3
   },
   "file_extension": ".py",
   "mimetype": "text/x-python",
   "name": "python",
   "nbconvert_exporter": "python",
   "pygments_lexer": "ipython3",
   "version": "3.12.5"
  }
 },
 "nbformat": 4,
 "nbformat_minor": 2
}
