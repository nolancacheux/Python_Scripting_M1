{
 "cells": [
  {
   "cell_type": "code",
   "execution_count": 2,
   "metadata": {},
   "outputs": [
    {
     "name": "stdout",
     "output_type": "stream",
     "text": [
      "10/8\n",
      "False\n"
     ]
    },
    {
     "ename": "ValueError",
     "evalue": "Denominator cannot be zero",
     "output_type": "error",
     "traceback": [
      "\u001b[1;31m---------------------------------------------------------------------------\u001b[0m",
      "\u001b[1;31mValueError\u001b[0m                                Traceback (most recent call last)",
      "Cell \u001b[1;32mIn[2], line 23\u001b[0m\n\u001b[0;32m     21\u001b[0m \u001b[38;5;28mprint\u001b[39m(frac1 \u001b[38;5;241m+\u001b[39m frac2) \u001b[38;5;66;03m#output: 5/4\u001b[39;00m\n\u001b[0;32m     22\u001b[0m \u001b[38;5;28mprint\u001b[39m(frac1 \u001b[38;5;241m>\u001b[39m frac2) \u001b[38;5;66;03m#output: False\u001b[39;00m\n\u001b[1;32m---> 23\u001b[0m frac3 \u001b[38;5;241m=\u001b[39m Fractional(\u001b[38;5;241m42\u001b[39m,\u001b[38;5;241m0\u001b[39m)\n",
      "Cell \u001b[1;32mIn[2], line 4\u001b[0m, in \u001b[0;36mFractional.__init__\u001b[1;34m(self, numerator, denominator)\u001b[0m\n\u001b[0;32m      2\u001b[0m \u001b[38;5;28;01mdef\u001b[39;00m \u001b[38;5;21m__init__\u001b[39m(\u001b[38;5;28mself\u001b[39m, numerator, denominator) :\n\u001b[0;32m      3\u001b[0m     \u001b[38;5;28;01mif\u001b[39;00m denominator \u001b[38;5;241m==\u001b[39m \u001b[38;5;241m0\u001b[39m :\n\u001b[1;32m----> 4\u001b[0m         \u001b[38;5;28;01mraise\u001b[39;00m \u001b[38;5;167;01mValueError\u001b[39;00m(\u001b[38;5;124m\"\u001b[39m\u001b[38;5;124mDenominator cannot be zero\u001b[39m\u001b[38;5;124m\"\u001b[39m)\n\u001b[0;32m      5\u001b[0m     \u001b[38;5;28mself\u001b[39m\u001b[38;5;241m.\u001b[39mnumerator \u001b[38;5;241m=\u001b[39m numerator\n\u001b[0;32m      6\u001b[0m     \u001b[38;5;28mself\u001b[39m\u001b[38;5;241m.\u001b[39mdenominator \u001b[38;5;241m=\u001b[39m denominator\n",
      "\u001b[1;31mValueError\u001b[0m: Denominator cannot be zero"
     ]
    }
   ],
   "source": [
    "class Fractional : \n",
    "    def __init__(self, numerator, denominator) :\n",
    "        if denominator == 0 :\n",
    "            raise ValueError(\"Denominator cannot be zero\")\n",
    "        self.numerator = numerator\n",
    "        self.denominator = denominator\n",
    "    \n",
    "    def __str__(self) :\n",
    "        return str(self.numerator) + \"/\" + str(self.denominator)\n",
    "    def __add__(self, other) :\n",
    "        new_numerator = self.numerator * other.denominator + other.numerator * self.denominator\n",
    "        new_denominator = self.denominator * other.denominator\n",
    "        return Fractional(new_numerator, new_denominator)\n",
    "    def __gt__(self, other) :\n",
    "        return self.numerator * other.denominator > other.numerator * self.denominator\n",
    "    \n",
    "\n",
    "\n",
    "frac1 = Fractional(1,2)\n",
    "frac2 = Fractional(3,4)\n",
    "print(frac1 + frac2) #output: 5/4\n",
    "print(frac1 > frac2) #output: False\n",
    "#frac3 = Fractional(42,0) #output: ValueError: Denominator cannot be zero\n"
   ]
  }
 ],
 "metadata": {
  "kernelspec": {
   "display_name": "Nolan_env",
   "language": "python",
   "name": "python3"
  },
  "language_info": {
   "codemirror_mode": {
    "name": "ipython",
    "version": 3
   },
   "file_extension": ".py",
   "mimetype": "text/x-python",
   "name": "python",
   "nbconvert_exporter": "python",
   "pygments_lexer": "ipython3",
   "version": "3.12.5"
  }
 },
 "nbformat": 4,
 "nbformat_minor": 2
}
